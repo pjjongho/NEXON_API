{
 "cells": [
  {
   "cell_type": "code",
   "execution_count": 1,
   "id": "2990dfec",
   "metadata": {},
   "outputs": [],
   "source": [
    "import warnings\n",
    "warnings.filterwarnings(action='ignore')\n",
    "import requests\n",
    "import pandas as pd\n",
    "from tqdm import tqdm\n",
    "import time\n",
    "from urllib.parse import quote"
   ]
  },
  {
   "cell_type": "code",
   "execution_count": 2,
   "id": "550a08c9",
   "metadata": {},
   "outputs": [
    {
     "name": "stdout",
     "output_type": "stream",
     "text": [
      "\n"
     ]
    }
   ],
   "source": [
    "# api 파일 불러오기\n",
    "\n",
    "filename = './api_keys.txt'\n",
    "\n",
    "with open(filename, 'r') as file:\n",
    "    api_key = file.read().strip()\n",
    "    print()"
   ]
  },
  {
   "cell_type": "code",
   "execution_count": 3,
   "id": "2457c606",
   "metadata": {},
   "outputs": [],
   "source": [
    "headers = {\"x-nxeopen-api-key\":api_key}"
   ]
  },
  {
   "cell_type": "code",
   "execution_count": 4,
   "id": "e789bb7a",
   "metadata": {},
   "outputs": [],
   "source": [
    "# OCID (character id) search\n",
    "\n",
    "def get_ocid(character_name):\n",
    "    url = f\"https://open.api.nexon.com/maplestory/v1/id?character_name={character_name}\"\n",
    "    response = requests.get(url, headers=headers)\n",
    "\n",
    "    if response.status_code == 200:\n",
    "        return response.json().get(\"ocid\")\n",
    "    else:\n",
    "        print('failed ocid search',response.status_code, response.text)\n",
    "        return None"
   ]
  },
  {
   "cell_type": "code",
   "execution_count": 5,
   "id": "ad7a03c4",
   "metadata": {},
   "outputs": [],
   "source": [
    "# 캐릭터 기본 정보 조회\n",
    "\n",
    "def get_character_info(ocid):\n",
    "    url = f\"https://open.api.nexon.com/maplestory/v1/id?character_name={ocid}\"\n",
    "    response = requests.get(url, headers=headers)\n",
    "\n",
    "    if response.status_code == 200:\n",
    "        return response.json()\n",
    "    else:\n",
    "        print(\"캐릭터 정보 조회 실패 : \", response.status_code, response.text)\n",
    "        return None"
   ]
  },
  {
   "cell_type": "code",
   "execution_count": 1,
   "id": "5f23f638",
   "metadata": {},
   "outputs": [
    {
     "ename": "NameError",
     "evalue": "name 'get_ocid' is not defined",
     "output_type": "error",
     "traceback": [
      "\u001b[1;31m---------------------------------------------------------------------------\u001b[0m",
      "\u001b[1;31mNameError\u001b[0m                                 Traceback (most recent call last)",
      "Cell \u001b[1;32mIn[1], line 3\u001b[0m\n\u001b[0;32m      1\u001b[0m \u001b[38;5;28;01mif\u001b[39;00m \u001b[38;5;18m__name__\u001b[39m \u001b[38;5;241m==\u001b[39m \u001b[38;5;124m\"\u001b[39m\u001b[38;5;124m__main__\u001b[39m\u001b[38;5;124m\"\u001b[39m:\n\u001b[0;32m      2\u001b[0m     char_name \u001b[38;5;241m=\u001b[39m \u001b[38;5;124m\"\u001b[39m\u001b[38;5;124m김선웅뒤통수\u001b[39m\u001b[38;5;124m\"\u001b[39m\n\u001b[1;32m----> 3\u001b[0m     ocid \u001b[38;5;241m=\u001b[39m get_ocid(char_name)\n\u001b[0;32m      5\u001b[0m     \u001b[38;5;28;01mif\u001b[39;00m ocid:\n\u001b[0;32m      6\u001b[0m         info \u001b[38;5;241m=\u001b[39m get_character_info(ocid)\n",
      "\u001b[1;31mNameError\u001b[0m: name 'get_ocid' is not defined"
     ]
    }
   ],
   "source": [
    "if __name__ == \"__main__\":\n",
    "    char_name = \"김선웅뒤통수\"\n",
    "    ocid = get_ocid(char_name)\n",
    "\n",
    "    if ocid:\n",
    "        info = get_character_info(ocid)\n",
    "        if info:\n",
    "            print(f\"character name : {info['character_name']}\")\n",
    "            print(f\"job : {info['character_class']}\")\n",
    "            print(f\"character level : {info['character_level']}\")\n",
    "            print(f\"World : {info['world_name']}\")\n",
    "            print(f\"image : {info['character_image']}\")"
   ]
  }
 ],
 "metadata": {
  "kernelspec": {
   "display_name": "jjong",
   "language": "python",
   "name": "python3"
  },
  "language_info": {
   "codemirror_mode": {
    "name": "ipython",
    "version": 3
   },
   "file_extension": ".py",
   "mimetype": "text/x-python",
   "name": "python",
   "nbconvert_exporter": "python",
   "pygments_lexer": "ipython3",
   "version": "3.11.5"
  }
 },
 "nbformat": 4,
 "nbformat_minor": 5
}
