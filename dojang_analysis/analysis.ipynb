{
 "cells": [
  {
   "cell_type": "code",
   "execution_count": 1,
   "id": "27317a9b",
   "metadata": {},
   "outputs": [],
   "source": [
    "import pandas as pd\n",
    "import numpy as np\n",
    "import matplotlib.pyplot as plt\n",
    "import os"
   ]
  },
  {
   "cell_type": "code",
   "execution_count": 15,
   "id": "32cfcd4d",
   "metadata": {},
   "outputs": [],
   "source": [
    "nick_info = pd.read_csv('../data/nickname.csv')\n",
    "char_info = pd.read_csv('../data/char_info.csv')\n",
    "stat_info = pd.read_csv('../data/stat.csv')\n",
    "pop_info = pd.read_csv('../data/popularity.csv')\n",
    "dojang_info = pd.read_csv('../data/dojang.csv')\n",
    "symbol_info = pd.read_csv('../data/symbol_info.csv')"
   ]
  },
  {
   "cell_type": "code",
   "execution_count": 16,
   "id": "dc887a47",
   "metadata": {},
   "outputs": [
    {
     "data": {
      "text/plain": [
       "((500, 1), (497, 16), (495, 5), (500, 3), (500, 7), (500, 4))"
      ]
     },
     "execution_count": 16,
     "metadata": {},
     "output_type": "execute_result"
    }
   ],
   "source": [
    "nick_info.shape, char_info.shape, stat_info.shape, pop_info.shape, dojang_info.shape, symbol_info.shape"
   ]
  },
  {
   "cell_type": "code",
   "execution_count": 17,
   "id": "1f2812d0",
   "metadata": {},
   "outputs": [
    {
     "data": {
      "text/html": [
       "<div>\n",
       "<style scoped>\n",
       "    .dataframe tbody tr th:only-of-type {\n",
       "        vertical-align: middle;\n",
       "    }\n",
       "\n",
       "    .dataframe tbody tr th {\n",
       "        vertical-align: top;\n",
       "    }\n",
       "\n",
       "    .dataframe thead th {\n",
       "        text-align: right;\n",
       "    }\n",
       "</style>\n",
       "<table border=\"1\" class=\"dataframe\">\n",
       "  <thead>\n",
       "    <tr style=\"text-align: right;\">\n",
       "      <th></th>\n",
       "      <th>date</th>\n",
       "      <th>character_class</th>\n",
       "      <th>symbol</th>\n",
       "      <th>nickname</th>\n",
       "    </tr>\n",
       "  </thead>\n",
       "  <tbody>\n",
       "    <tr>\n",
       "      <th>0</th>\n",
       "      <td>NaN</td>\n",
       "      <td>아델</td>\n",
       "      <td>[{'symbol_name': '아케인심볼 : 모라스', 'symbol_icon':...</td>\n",
       "      <td>아델</td>\n",
       "    </tr>\n",
       "    <tr>\n",
       "      <th>1</th>\n",
       "      <td>NaN</td>\n",
       "      <td>듀얼블레이더</td>\n",
       "      <td>[{'symbol_name': '아케인심볼 : 소멸의 여로', 'symbol_ico...</td>\n",
       "      <td>치어</td>\n",
       "    </tr>\n",
       "    <tr>\n",
       "      <th>2</th>\n",
       "      <td>NaN</td>\n",
       "      <td>데몬어벤져</td>\n",
       "      <td>[{'symbol_name': '아케인심볼 : 아르카나', 'symbol_icon'...</td>\n",
       "      <td>흡혈</td>\n",
       "    </tr>\n",
       "  </tbody>\n",
       "</table>\n",
       "</div>"
      ],
      "text/plain": [
       "   date character_class                                             symbol  \\\n",
       "0   NaN              아델  [{'symbol_name': '아케인심볼 : 모라스', 'symbol_icon':...   \n",
       "1   NaN          듀얼블레이더  [{'symbol_name': '아케인심볼 : 소멸의 여로', 'symbol_ico...   \n",
       "2   NaN           데몬어벤져  [{'symbol_name': '아케인심볼 : 아르카나', 'symbol_icon'...   \n",
       "\n",
       "  nickname  \n",
       "0       아델  \n",
       "1       치어  \n",
       "2       흡혈  "
      ]
     },
     "execution_count": 17,
     "metadata": {},
     "output_type": "execute_result"
    }
   ],
   "source": [
    "symbol_info.head(3)"
   ]
  }
 ],
 "metadata": {
  "kernelspec": {
   "display_name": "jjong",
   "language": "python",
   "name": "python3"
  },
  "language_info": {
   "codemirror_mode": {
    "name": "ipython",
    "version": 3
   },
   "file_extension": ".py",
   "mimetype": "text/x-python",
   "name": "python",
   "nbconvert_exporter": "python",
   "pygments_lexer": "ipython3",
   "version": "3.11.5"
  }
 },
 "nbformat": 4,
 "nbformat_minor": 5
}
