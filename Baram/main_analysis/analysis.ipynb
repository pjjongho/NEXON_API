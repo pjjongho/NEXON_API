{
 "cells": [
  {
   "cell_type": "code",
   "execution_count": 113,
   "id": "8dd77d6d",
   "metadata": {},
   "outputs": [],
   "source": [
    "import pandas as pd\n",
    "import matplotlib.pyplot as plt\n",
    "import seaborn as sns\n",
    "\n",
    "# 한글 깨짐 방지\n",
    "plt.rcParams['font.family'] = 'Malgun Gothic'  \n",
    "plt.rcParams['axes.unicode_minus'] = False"
   ]
  },
  {
   "cell_type": "code",
   "execution_count": 114,
   "id": "0d3d7a07",
   "metadata": {},
   "outputs": [
    {
     "data": {
      "text/plain": [
       "Index(['character_name', 'character_date_create', 'character_create_type_name',\n",
       "       'character_class_name', 'character_nation_name', 'character_gender',\n",
       "       'character_exp', 'character_level', 'server_name', 'job', 'ocid', '힘',\n",
       "       '지력', '지혜', '건강', '민첩', '체력치', '마력치'],\n",
       "      dtype='object')"
      ]
     },
     "execution_count": 114,
     "metadata": {},
     "output_type": "execute_result"
    }
   ],
   "source": [
    "df = pd.read_csv('./data/merged_df.csv')\n",
    "df.columns"
   ]
  },
  {
   "cell_type": "code",
   "execution_count": 115,
   "id": "8a996673",
   "metadata": {},
   "outputs": [
    {
     "data": {
      "text/plain": [
       "(550, 18)"
      ]
     },
     "execution_count": 115,
     "metadata": {},
     "output_type": "execute_result"
    }
   ],
   "source": [
    "df.shape"
   ]
  },
  {
   "cell_type": "code",
   "execution_count": 116,
   "id": "c32c620d",
   "metadata": {},
   "outputs": [
    {
     "data": {
      "text/html": [
       "<div>\n",
       "<style scoped>\n",
       "    .dataframe tbody tr th:only-of-type {\n",
       "        vertical-align: middle;\n",
       "    }\n",
       "\n",
       "    .dataframe tbody tr th {\n",
       "        vertical-align: top;\n",
       "    }\n",
       "\n",
       "    .dataframe thead th {\n",
       "        text-align: right;\n",
       "    }\n",
       "</style>\n",
       "<table border=\"1\" class=\"dataframe\">\n",
       "  <thead>\n",
       "    <tr style=\"text-align: right;\">\n",
       "      <th></th>\n",
       "      <th>character_name</th>\n",
       "      <th>character_date_create</th>\n",
       "      <th>character_create_type_name</th>\n",
       "      <th>character_class_name</th>\n",
       "      <th>character_nation_name</th>\n",
       "      <th>character_gender</th>\n",
       "      <th>character_exp</th>\n",
       "      <th>character_level</th>\n",
       "      <th>server_name</th>\n",
       "      <th>job</th>\n",
       "      <th>ocid</th>\n",
       "      <th>힘</th>\n",
       "      <th>지력</th>\n",
       "      <th>지혜</th>\n",
       "      <th>건강</th>\n",
       "      <th>민첩</th>\n",
       "      <th>체력치</th>\n",
       "      <th>마력치</th>\n",
       "    </tr>\n",
       "  </thead>\n",
       "  <tbody>\n",
       "    <tr>\n",
       "      <th>0</th>\n",
       "      <td>포맨</td>\n",
       "      <td>2015-10-18T02:20:37.25Z</td>\n",
       "      <td>캐릭터_일반</td>\n",
       "      <td>전사</td>\n",
       "      <td>부여</td>\n",
       "      <td>M</td>\n",
       "      <td>2.664212e+18</td>\n",
       "      <td>899</td>\n",
       "      <td>연</td>\n",
       "      <td>전사</td>\n",
       "      <td>d3c2bda905bda4fcdbf9a3b30972a233</td>\n",
       "      <td>1348</td>\n",
       "      <td>497</td>\n",
       "      <td>387</td>\n",
       "      <td>565</td>\n",
       "      <td>720</td>\n",
       "      <td>22731261</td>\n",
       "      <td>4746820</td>\n",
       "    </tr>\n",
       "    <tr>\n",
       "      <th>1</th>\n",
       "      <td>신이내린한분</td>\n",
       "      <td>2008-09-03T10:04:19Z</td>\n",
       "      <td>캐릭터_일반</td>\n",
       "      <td>전사</td>\n",
       "      <td>고구려</td>\n",
       "      <td>M</td>\n",
       "      <td>8.588192e+15</td>\n",
       "      <td>899</td>\n",
       "      <td>연</td>\n",
       "      <td>전사</td>\n",
       "      <td>6b7a4d4d779c8d55ea92ec4ae0ac14f5efe8d04e6d233b...</td>\n",
       "      <td>1228</td>\n",
       "      <td>614</td>\n",
       "      <td>430</td>\n",
       "      <td>523</td>\n",
       "      <td>709</td>\n",
       "      <td>21260856</td>\n",
       "      <td>4957741</td>\n",
       "    </tr>\n",
       "  </tbody>\n",
       "</table>\n",
       "</div>"
      ],
      "text/plain": [
       "  character_name    character_date_create character_create_type_name  \\\n",
       "0             포맨  2015-10-18T02:20:37.25Z                     캐릭터_일반   \n",
       "1         신이내린한분     2008-09-03T10:04:19Z                     캐릭터_일반   \n",
       "\n",
       "  character_class_name character_nation_name character_gender  character_exp  \\\n",
       "0                   전사                    부여                M   2.664212e+18   \n",
       "1                   전사                   고구려                M   8.588192e+15   \n",
       "\n",
       "   character_level server_name job  \\\n",
       "0              899           연  전사   \n",
       "1              899           연  전사   \n",
       "\n",
       "                                                ocid     힘   지력   지혜   건강  \\\n",
       "0                   d3c2bda905bda4fcdbf9a3b30972a233  1348  497  387  565   \n",
       "1  6b7a4d4d779c8d55ea92ec4ae0ac14f5efe8d04e6d233b...  1228  614  430  523   \n",
       "\n",
       "    민첩       체력치      마력치  \n",
       "0  720  22731261  4746820  \n",
       "1  709  21260856  4957741  "
      ]
     },
     "execution_count": 116,
     "metadata": {},
     "output_type": "execute_result"
    }
   ],
   "source": [
    "df.head(2)"
   ]
  },
  {
   "cell_type": "markdown",
   "id": "d5232304",
   "metadata": {},
   "source": [
    "### 분석 목표에 불필요한 컬럼 제거\n",
    "#### 분석 목표 : <span style=\"color:orange\">**뉴비가 시작하기에 효율이 좋은 직업**</span>\n",
    "\n",
    "- 제거 대상 : character_gender, character_class_name (job 컬럼이 존재)"
   ]
  },
  {
   "cell_type": "code",
   "execution_count": 117,
   "id": "fca0f226",
   "metadata": {},
   "outputs": [],
   "source": [
    "df = df.drop(['character_gender', 'character_class_name'], axis=1)"
   ]
  },
  {
   "cell_type": "markdown",
   "id": "78fda7ef",
   "metadata": {},
   "source": [
    "### 순위 재설정\n",
    "- 현재 데이터는 서버의 직업별 상위 10명의 랭커들을 수집한 데이터\n",
    "- 절대적인 순위의 척도로 **<span style=\"color:orange\">character_exp</span>** 를 통해 재설정\n",
    "- 컬럼 이름 : <span style=\"color:orange\">**character_rank**</span>"
   ]
  },
  {
   "cell_type": "code",
   "execution_count": 118,
   "id": "aca089e0",
   "metadata": {},
   "outputs": [],
   "source": [
    "# drop 'character_create_type_name' nunique = 1\n",
    "df = df.drop('character_create_type_name', axis=1)\n",
    "\n",
    "# character_exp NaN drop\n",
    "df = df.dropna(subset=['character_exp'])\n",
    "\n",
    "# define character_rank\n",
    "# character_level이 높을수록, 경험치가 많을수록 상위 순위\n",
    "df.sort_values(by=['character_level','character_exp'], ascending=[False, False], inplace=True)\n",
    "df.reset_index(drop=True, inplace=True)\n",
    "df['character_rank'] = df.index + 1"
   ]
  },
  {
   "cell_type": "code",
   "execution_count": 119,
   "id": "4144cd1e",
   "metadata": {},
   "outputs": [
    {
     "data": {
      "text/html": [
       "<div>\n",
       "<style scoped>\n",
       "    .dataframe tbody tr th:only-of-type {\n",
       "        vertical-align: middle;\n",
       "    }\n",
       "\n",
       "    .dataframe tbody tr th {\n",
       "        vertical-align: top;\n",
       "    }\n",
       "\n",
       "    .dataframe thead th {\n",
       "        text-align: right;\n",
       "    }\n",
       "</style>\n",
       "<table border=\"1\" class=\"dataframe\">\n",
       "  <thead>\n",
       "    <tr style=\"text-align: right;\">\n",
       "      <th></th>\n",
       "      <th>character_name</th>\n",
       "      <th>character_date_create</th>\n",
       "      <th>character_nation_name</th>\n",
       "      <th>character_exp</th>\n",
       "      <th>character_level</th>\n",
       "      <th>server_name</th>\n",
       "      <th>job</th>\n",
       "      <th>ocid</th>\n",
       "      <th>힘</th>\n",
       "      <th>지력</th>\n",
       "      <th>지혜</th>\n",
       "      <th>건강</th>\n",
       "      <th>민첩</th>\n",
       "      <th>체력치</th>\n",
       "      <th>마력치</th>\n",
       "      <th>character_rank</th>\n",
       "    </tr>\n",
       "  </thead>\n",
       "  <tbody>\n",
       "    <tr>\n",
       "      <th>0</th>\n",
       "      <td>장동건</td>\n",
       "      <td>2014-10-07T14:23:05.75Z</td>\n",
       "      <td>고구려</td>\n",
       "      <td>3.435641e+18</td>\n",
       "      <td>899</td>\n",
       "      <td>무휼</td>\n",
       "      <td>천인</td>\n",
       "      <td>f5c7c2de093f397e3131242eea5e4ec49c4668c7065013...</td>\n",
       "      <td>724</td>\n",
       "      <td>1143</td>\n",
       "      <td>495</td>\n",
       "      <td>345</td>\n",
       "      <td>557</td>\n",
       "      <td>10353662</td>\n",
       "      <td>8559029</td>\n",
       "      <td>1</td>\n",
       "    </tr>\n",
       "    <tr>\n",
       "      <th>1</th>\n",
       "      <td>강산</td>\n",
       "      <td>2021-08-09T13:27:16Z</td>\n",
       "      <td>부여</td>\n",
       "      <td>2.958403e+18</td>\n",
       "      <td>899</td>\n",
       "      <td>유리</td>\n",
       "      <td>주술사</td>\n",
       "      <td>8539794a0d45cb494ae006e185475cee35dacb1bd07330...</td>\n",
       "      <td>530</td>\n",
       "      <td>1288</td>\n",
       "      <td>530</td>\n",
       "      <td>384</td>\n",
       "      <td>677</td>\n",
       "      <td>12455659</td>\n",
       "      <td>11291944</td>\n",
       "      <td>2</td>\n",
       "    </tr>\n",
       "  </tbody>\n",
       "</table>\n",
       "</div>"
      ],
      "text/plain": [
       "  character_name    character_date_create character_nation_name  \\\n",
       "0            장동건  2014-10-07T14:23:05.75Z                   고구려   \n",
       "1             강산     2021-08-09T13:27:16Z                    부여   \n",
       "\n",
       "   character_exp  character_level server_name  job  \\\n",
       "0   3.435641e+18              899          무휼   천인   \n",
       "1   2.958403e+18              899          유리  주술사   \n",
       "\n",
       "                                                ocid    힘    지력   지혜   건강  \\\n",
       "0  f5c7c2de093f397e3131242eea5e4ec49c4668c7065013...  724  1143  495  345   \n",
       "1  8539794a0d45cb494ae006e185475cee35dacb1bd07330...  530  1288  530  384   \n",
       "\n",
       "    민첩       체력치       마력치  character_rank  \n",
       "0  557  10353662   8559029               1  \n",
       "1  677  12455659  11291944               2  "
      ]
     },
     "execution_count": 119,
     "metadata": {},
     "output_type": "execute_result"
    }
   ],
   "source": [
    "df.head(2)"
   ]
  },
  {
   "cell_type": "markdown",
   "id": "6f77b7dd",
   "metadata": {},
   "source": [
    "### 1. 상위 200등 이내에 어떤 직업군과 서버가 존재하는지 파악"
   ]
  },
  {
   "cell_type": "code",
   "execution_count": 120,
   "id": "76e9c6b6",
   "metadata": {},
   "outputs": [],
   "source": [
    "# 상위 200등 필터링\n",
    "df_top200 = df.head(200)"
   ]
  },
  {
   "cell_type": "code",
   "execution_count": 121,
   "id": "daf3a5e4",
   "metadata": {},
   "outputs": [
    {
     "data": {
      "image/png": "[encoded data removed]",
      "text/plain": [
       "<Figure size 1000x600 with 1 Axes>"
      ]
     },
     "metadata": {},
     "output_type": "display_data"
    }
   ],
   "source": [
    "# 상위 200등 내 직업별 분포 시각화\n",
    "\n",
    "plt.figure(figsize=(10, 6))\n",
    "job_counts = df_top200['job'].value_counts()\n",
    "ax = sns.barplot(x=job_counts.values, y=job_counts.index, palette='Pastel2')\n",
    "plt.title('상위 200등 내 직업 분포')\n",
    "plt.xlabel('캐릭터 수')\n",
    "plt.ylabel('직업')\n",
    "\n",
    "## 각 바 끝에 수치 표시\n",
    "for i, j in enumerate(job_counts.values):\n",
    "    ax.text(j + 0.1, i, str(j), va='center')\n",
    "plt.tight_layout()\n",
    "plt.show()\n"
   ]
  },
  {
   "cell_type": "code",
   "execution_count": 123,
   "id": "539c894e",
   "metadata": {},
   "outputs": [
    {
     "data": {
      "image/png": "[encoded data removed]",
      "text/plain": [
       "<Figure size 1000x600 with 1 Axes>"
      ]
     },
     "metadata": {},
     "output_type": "display_data"
    }
   ],
   "source": [
    "# 2. 서버 분포\n",
    "plt.figure(figsize=(10, 6))\n",
    "server_counts = df_top200['server_name'].value_counts()\n",
    "ax = sns.barplot(x=server_counts.values, y=server_counts.index, palette='Pastel2')\n",
    "plt.title('상위 200등 내 서버 분포')\n",
    "plt.xlabel('유저 수')\n",
    "plt.ylabel('서버')\n",
    "\n",
    "## 각 바 끝에 수치 표시\n",
    "for i, j in enumerate(server_counts.values):\n",
    "    ax.text(j + 0.1, i, str(j), va='center')\n",
    "plt.tight_layout()\n",
    "plt.show()"
   ]
  },
  {
   "cell_type": "code",
   "execution_count": 124,
   "id": "af1e0d62",
   "metadata": {},
   "outputs": [
    {
     "data": {
      "text/html": [
       "<div>\n",
       "<style scoped>\n",
       "    .dataframe tbody tr th:only-of-type {\n",
       "        vertical-align: middle;\n",
       "    }\n",
       "\n",
       "    .dataframe tbody tr th {\n",
       "        vertical-align: top;\n",
       "    }\n",
       "\n",
       "    .dataframe thead th {\n",
       "        text-align: right;\n",
       "    }\n",
       "</style>\n",
       "<table border=\"1\" class=\"dataframe\">\n",
       "  <thead>\n",
       "    <tr style=\"text-align: right;\">\n",
       "      <th></th>\n",
       "      <th>character_name</th>\n",
       "      <th>character_date_create</th>\n",
       "      <th>character_nation_name</th>\n",
       "      <th>character_exp</th>\n",
       "      <th>character_level</th>\n",
       "      <th>server_name</th>\n",
       "      <th>job</th>\n",
       "      <th>ocid</th>\n",
       "      <th>힘</th>\n",
       "      <th>지력</th>\n",
       "      <th>지혜</th>\n",
       "      <th>건강</th>\n",
       "      <th>민첩</th>\n",
       "      <th>체력치</th>\n",
       "      <th>마력치</th>\n",
       "      <th>character_rank</th>\n",
       "    </tr>\n",
       "  </thead>\n",
       "  <tbody>\n",
       "    <tr>\n",
       "      <th>0</th>\n",
       "      <td>장동건</td>\n",
       "      <td>2014-10-07T14:23:05.75Z</td>\n",
       "      <td>고구려</td>\n",
       "      <td>3.435641e+18</td>\n",
       "      <td>899</td>\n",
       "      <td>무휼</td>\n",
       "      <td>천인</td>\n",
       "      <td>f5c7c2de093f397e3131242eea5e4ec49c4668c7065013...</td>\n",
       "      <td>724</td>\n",
       "      <td>1143</td>\n",
       "      <td>495</td>\n",
       "      <td>345</td>\n",
       "      <td>557</td>\n",
       "      <td>10353662</td>\n",
       "      <td>8559029</td>\n",
       "      <td>1</td>\n",
       "    </tr>\n",
       "  </tbody>\n",
       "</table>\n",
       "</div>"
      ],
      "text/plain": [
       "  character_name    character_date_create character_nation_name  \\\n",
       "0            장동건  2014-10-07T14:23:05.75Z                   고구려   \n",
       "\n",
       "   character_exp  character_level server_name job  \\\n",
       "0   3.435641e+18              899          무휼  천인   \n",
       "\n",
       "                                                ocid    힘    지력   지혜   건강  \\\n",
       "0  f5c7c2de093f397e3131242eea5e4ec49c4668c7065013...  724  1143  495  345   \n",
       "\n",
       "    민첩       체력치      마력치  character_rank  \n",
       "0  557  10353662  8559029               1  "
      ]
     },
     "execution_count": 124,
     "metadata": {},
     "output_type": "execute_result"
    }
   ],
   "source": [
    "df.head(1)"
   ]
  }
 ],
 "metadata": {
  "kernelspec": {
   "display_name": "jjong",
   "language": "python",
   "name": "python3"
  },
  "language_info": {
   "codemirror_mode": {
    "name": "ipython",
    "version": 3
   },
   "file_extension": ".py",
   "mimetype": "text/x-python",
   "name": "python",
   "nbconvert_exporter": "python",
   "pygments_lexer": "ipython3",
   "version": "3.11.5"
  }
 },
 "nbformat": 4,
 "nbformat_minor": 5
}
